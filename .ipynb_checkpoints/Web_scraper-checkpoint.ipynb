{
 "cells": [
  {
   "cell_type": "markdown",
   "id": "5c5514e6",
   "metadata": {},
   "source": [
    "Webscraper for okcupid for data\n",
    "\n",
    "First project using selenium to gather data such as self-summary, age and some details\n",
    "\n",
    "Main goal is to identify trends of how people form their self summary."
   ]
  },
  {
   "cell_type": "code",
   "execution_count": 1,
   "id": "456edf0c",
   "metadata": {},
   "outputs": [],
   "source": [
    "#!pip install selenium\n",
    "#Import relevant packages\n",
    "from selenium.common.exceptions import NoSuchElementException, ElementClickInterceptedException\n",
    "from selenium import webdriver\n",
    "from selenium.webdriver.support import expected_conditions as EC\n",
    "from selenium.webdriver.support.ui import WebDriverWait\n",
    "from selenium.webdriver.common.by import By\n",
    "import time\n",
    "import pandas as pd"
   ]
  },
  {
   "cell_type": "code",
   "execution_count": 2,
   "id": "b4986913",
   "metadata": {},
   "outputs": [
    {
     "name": "stderr",
     "output_type": "stream",
     "text": [
      "C:\\Users\\LOHDAI~1\\AppData\\Local\\Temp/ipykernel_13408/2561469875.py:4: DeprecationWarning: executable_path has been deprecated, please pass in a Service object\n",
      "  driver = webdriver.Chrome(executable_path=\"C:/Users/Loh Dai Jiu/OneDrive/Desktop/Okcupid_project/Webscraper_okc/chromedriver\", options=options)\n"
     ]
    }
   ],
   "source": [
    "#Open and login to Okcupid\n",
    "baseURL=\"https://www.okcupid.com/login\"\n",
    "options = webdriver.ChromeOptions()\n",
    "driver = webdriver.Chrome(executable_path=\"C:/Users/Loh Dai Jiu/OneDrive/Desktop/Okcupid_project/Webscraper_okc/chromedriver\", options=options)\n",
    "driver.get(baseURL)\n",
    "driver.maximize_window()"
   ]
  },
  {
   "cell_type": "code",
   "execution_count": 4,
   "id": "b4f621c1",
   "metadata": {},
   "outputs": [],
   "source": [
    "#Login to okc account\n",
    "WebDriverWait(driver,100).until(EC.element_to_be_clickable((By.CSS_SELECTOR,\"input[id='username']\"))).send_keys(\"lohdaijiu@gmail.com\")\n",
    "# user=driver.find_element_by_css_selector(\"input[id='username']\")\n",
    "# user.send_keys(\"lohdaijiu@gmail.com\")\n",
    "WebDriverWait(driver,100).until(EC.element_to_be_clickable((By.CSS_SELECTOR,\"input[id='password']\"))).send_keys(\"*****\")\n",
    "\n",
    "#Password hidden\n",
    "\n",
    "login = driver.find_element(By.CLASS_NAME, \"login-actions-button\")\n",
    "login.click()\n",
    "\n",
    "time.sleep(2)\n",
    "\n",
    "sendVerification = driver.find_element(By.CLASS_NAME, \"login-actions-button\")\n",
    "sendVerification.click()\n",
    "\n",
    "time.sleep(15) #15 seconds to enter OTP"
   ]
  },
  {
   "cell_type": "code",
   "execution_count": null,
   "id": "e01706c2-e927-4473-b6f2-7ac0718c947c",
   "metadata": {},
   "outputs": [],
   "source": [
    "profiles = []"
   ]
  },
  {
   "cell_type": "code",
   "execution_count": 5,
   "id": "e661ddd5",
   "metadata": {},
   "outputs": [],
   "source": [
    "#For loop to gather information\n",
    "count = 0\n",
    "\n",
    "for i in range(10000):\n",
    "    \n",
    "    try:\n",
    "    \n",
    "        collected = False\n",
    "        new_friends = False\n",
    "        short_term = False\n",
    "        long_term = False\n",
    "        hookups = False\n",
    "\n",
    "        while not collected:\n",
    "\n",
    "            name = driver.find_element(By.CLASS_NAME, \"card-content-header__text\").text\n",
    "            age = driver.find_element(By.CLASS_NAME, \"card-content-header__location\").text[0:2]\n",
    "            try:\n",
    "                if driver.find_element(By.CLASS_NAME, \"dt-section-title\").text == \"My self-summary\":\n",
    "                    self_summary = driver.find_element(By.CLASS_NAME, \"dt-essay-text\").text.replace('\\n',\" \")\n",
    "                else:\n",
    "                    self_summary = None\n",
    "\n",
    "            except NoSuchElementException:\n",
    "                pass\n",
    "\n",
    "            try:           \n",
    "                target = driver.find_element(By.XPATH, \"//*[contains(text(), 'Looking for')]\").text           \n",
    "            except NoSuchElementException:\n",
    "                pass\n",
    "\n",
    "\n",
    "    #         print(target)\n",
    "            if \"New friends\" in target:\n",
    "                new_friends = True\n",
    "            if \"Short-term\" in target:\n",
    "                short_term = True\n",
    "            if \"Long-term\" in target:\n",
    "                long_term = True\n",
    "            if \"Hookups\" in target:\n",
    "                hookups = True\n",
    "\n",
    "\n",
    "            collected = True\n",
    "\n",
    "        currProfile = {\"name\": name, \"age\": age, \"self_summary\":self_summary, \"New Friends\": new_friends,\n",
    "                       \"Short-term dating\": short_term, \"Long-term dating\": long_term, \"Hookups\": hookups}\n",
    "        profiles.append(currProfile)\n",
    "        count += 1\n",
    "        \n",
    "        if count % 100 == 0:\n",
    "            print(count)\n",
    "        #Go to next profile\n",
    "        reject = driver.find_element(By.CLASS_NAME, \"dt-action-buttons-button-text\")\n",
    "        reject.click()\n",
    "        time.sleep(0.2)\n",
    "        \n",
    "    except:\n",
    "        driver.refresh(); #Correct any pop-ups that might happen\n",
    "        time.sleep(10)\n",
    "\n",
    "df = pd.DataFrame(profiles)"
   ]
  },
  {
   "cell_type": "code",
   "execution_count": 6,
   "id": "2c1e7fc4",
   "metadata": {},
   "outputs": [],
   "source": [
    "#Output csv file\n",
    "df.to_csv('okc_male.csv', index=True)"
   ]
  }
 ],
 "metadata": {
  "kernelspec": {
   "display_name": "Python 3 (ipykernel)",
   "language": "python",
   "name": "python3"
  },
  "language_info": {
   "codemirror_mode": {
    "name": "ipython",
    "version": 3
   },
   "file_extension": ".py",
   "mimetype": "text/x-python",
   "name": "python",
   "nbconvert_exporter": "python",
   "pygments_lexer": "ipython3",
   "version": "3.9.7"
  }
 },
 "nbformat": 4,
 "nbformat_minor": 5
}

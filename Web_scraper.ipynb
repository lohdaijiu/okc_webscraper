{
 "cells": [
  {
   "cell_type": "markdown",
   "id": "5c5514e6",
   "metadata": {},
   "source": [
    "Webscraper for okcupid for data\n",
    "\n",
    "First project using selenium to gather data such as self-summary, age and some details\n",
    "\n",
    "Main goal is to identify trends of how people form their self summary."
   ]
  },
  {
   "cell_type": "code",
   "execution_count": 114,
   "id": "456edf0c",
   "metadata": {},
   "outputs": [],
   "source": [
    "#!pip install selenium\n",
    "#Import relevant packages\n",
    "from selenium.common.exceptions import NoSuchElementException, ElementClickInterceptedException\n",
    "from selenium import webdriver\n",
    "from selenium.webdriver.support import expected_conditions as EC\n",
    "from selenium.webdriver.support.ui import WebDriverWait\n",
    "from selenium.webdriver.common.by import By\n",
    "import time\n",
    "import pandas as pd"
   ]
  },
  {
   "cell_type": "code",
   "execution_count": 115,
   "id": "b4986913",
   "metadata": {},
   "outputs": [
    {
     "name": "stderr",
     "output_type": "stream",
     "text": [
      "C:\\Users\\LOHDAI~1\\AppData\\Local\\Temp/ipykernel_3468/2798198114.py:4: DeprecationWarning: executable_path has been deprecated, please pass in a Service object\n",
      "  driver = webdriver.Chrome(executable_path=\"C:/Users/Loh Dai Jiu/OneDrive/Desktop/Okcupid_project/Webscraper_okc/chromedriver\", options=options)\n"
     ]
    }
   ],
   "source": [
    "#Open and login to Okcupid\n",
    "baseURL=\"https://www.okcupid.com/login\"\n",
    "options = webdriver.ChromeOptions()\n",
    "driver = webdriver.Chrome(executable_path=\"C:/Users/Loh Dai Jiu/OneDrive/Desktop/Okcupid_project/Webscraper_okc/chromedriver\", options=options)\n",
    "driver.get(baseURL)\n",
    "driver.maximize_window()"
   ]
  },
  {
   "cell_type": "code",
   "execution_count": 116,
   "id": "2082e320",
   "metadata": {},
   "outputs": [
    {
     "ename": "NoSuchElementException",
     "evalue": "Message: no such element: Unable to locate element: {\"method\":\"css selector\",\"selector\":\".login-actions-button\"}\n  (Session info: chrome=103.0.5060.66)\nStacktrace:\nBacktrace:\n\tOrdinal0 [0x011B6463+2188387]\n\tOrdinal0 [0x0114E461+1762401]\n\tOrdinal0 [0x01063D78+802168]\n\tOrdinal0 [0x01091880+989312]\n\tOrdinal0 [0x01091B1B+989979]\n\tOrdinal0 [0x010BE912+1173778]\n\tOrdinal0 [0x010AC824+1099812]\n\tOrdinal0 [0x010BCC22+1166370]\n\tOrdinal0 [0x010AC5F6+1099254]\n\tOrdinal0 [0x01086BE0+945120]\n\tOrdinal0 [0x01087AD6+948950]\n\tGetHandleVerifier [0x014571F2+2712546]\n\tGetHandleVerifier [0x0144886D+2652765]\n\tGetHandleVerifier [0x0124002A+520730]\n\tGetHandleVerifier [0x0123EE06+516086]\n\tOrdinal0 [0x0115468B+1787531]\n\tOrdinal0 [0x01158E88+1805960]\n\tOrdinal0 [0x01158F75+1806197]\n\tOrdinal0 [0x01161DF1+1842673]\n\tBaseThreadInitThunk [0x76536739+25]\n\tRtlGetFullPathName_UEx [0x770A8FEF+1215]\n\tRtlGetFullPathName_UEx [0x770A8FBD+1165]\n",
     "output_type": "error",
     "traceback": [
      "\u001b[1;31m---------------------------------------------------------------------------\u001b[0m",
      "\u001b[1;31mNoSuchElementException\u001b[0m                    Traceback (most recent call last)",
      "\u001b[1;32mC:\\Users\\LOHDAI~1\\AppData\\Local\\Temp/ipykernel_3468/206326074.py\u001b[0m in \u001b[0;36m<module>\u001b[1;34m\u001b[0m\n\u001b[0;32m      9\u001b[0m \u001b[0mtime\u001b[0m\u001b[1;33m.\u001b[0m\u001b[0msleep\u001b[0m\u001b[1;33m(\u001b[0m\u001b[1;36m2\u001b[0m\u001b[1;33m)\u001b[0m\u001b[1;33m\u001b[0m\u001b[1;33m\u001b[0m\u001b[0m\n\u001b[0;32m     10\u001b[0m \u001b[1;33m\u001b[0m\u001b[0m\n\u001b[1;32m---> 11\u001b[1;33m \u001b[0msendVerification\u001b[0m \u001b[1;33m=\u001b[0m \u001b[0mdriver\u001b[0m\u001b[1;33m.\u001b[0m\u001b[0mfind_element\u001b[0m\u001b[1;33m(\u001b[0m\u001b[0mBy\u001b[0m\u001b[1;33m.\u001b[0m\u001b[0mCLASS_NAME\u001b[0m\u001b[1;33m,\u001b[0m \u001b[1;34m\"login-actions-button\"\u001b[0m\u001b[1;33m)\u001b[0m\u001b[1;33m\u001b[0m\u001b[1;33m\u001b[0m\u001b[0m\n\u001b[0m\u001b[0;32m     12\u001b[0m \u001b[0msendVerification\u001b[0m\u001b[1;33m.\u001b[0m\u001b[0mclick\u001b[0m\u001b[1;33m(\u001b[0m\u001b[1;33m)\u001b[0m\u001b[1;33m\u001b[0m\u001b[1;33m\u001b[0m\u001b[0m\n\u001b[0;32m     13\u001b[0m \u001b[1;33m\u001b[0m\u001b[0m\n",
      "\u001b[1;32m~\\New folder\\lib\\site-packages\\selenium\\webdriver\\remote\\webdriver.py\u001b[0m in \u001b[0;36mfind_element\u001b[1;34m(self, by, value)\u001b[0m\n\u001b[0;32m    855\u001b[0m             \u001b[0mvalue\u001b[0m \u001b[1;33m=\u001b[0m \u001b[1;34m'[name=\"%s\"]'\u001b[0m \u001b[1;33m%\u001b[0m \u001b[0mvalue\u001b[0m\u001b[1;33m\u001b[0m\u001b[1;33m\u001b[0m\u001b[0m\n\u001b[0;32m    856\u001b[0m \u001b[1;33m\u001b[0m\u001b[0m\n\u001b[1;32m--> 857\u001b[1;33m         return self.execute(Command.FIND_ELEMENT, {\n\u001b[0m\u001b[0;32m    858\u001b[0m             \u001b[1;34m'using'\u001b[0m\u001b[1;33m:\u001b[0m \u001b[0mby\u001b[0m\u001b[1;33m,\u001b[0m\u001b[1;33m\u001b[0m\u001b[1;33m\u001b[0m\u001b[0m\n\u001b[0;32m    859\u001b[0m             'value': value})['value']\n",
      "\u001b[1;32m~\\New folder\\lib\\site-packages\\selenium\\webdriver\\remote\\webdriver.py\u001b[0m in \u001b[0;36mexecute\u001b[1;34m(self, driver_command, params)\u001b[0m\n\u001b[0;32m    433\u001b[0m         \u001b[0mresponse\u001b[0m \u001b[1;33m=\u001b[0m \u001b[0mself\u001b[0m\u001b[1;33m.\u001b[0m\u001b[0mcommand_executor\u001b[0m\u001b[1;33m.\u001b[0m\u001b[0mexecute\u001b[0m\u001b[1;33m(\u001b[0m\u001b[0mdriver_command\u001b[0m\u001b[1;33m,\u001b[0m \u001b[0mparams\u001b[0m\u001b[1;33m)\u001b[0m\u001b[1;33m\u001b[0m\u001b[1;33m\u001b[0m\u001b[0m\n\u001b[0;32m    434\u001b[0m         \u001b[1;32mif\u001b[0m \u001b[0mresponse\u001b[0m\u001b[1;33m:\u001b[0m\u001b[1;33m\u001b[0m\u001b[1;33m\u001b[0m\u001b[0m\n\u001b[1;32m--> 435\u001b[1;33m             \u001b[0mself\u001b[0m\u001b[1;33m.\u001b[0m\u001b[0merror_handler\u001b[0m\u001b[1;33m.\u001b[0m\u001b[0mcheck_response\u001b[0m\u001b[1;33m(\u001b[0m\u001b[0mresponse\u001b[0m\u001b[1;33m)\u001b[0m\u001b[1;33m\u001b[0m\u001b[1;33m\u001b[0m\u001b[0m\n\u001b[0m\u001b[0;32m    436\u001b[0m             response['value'] = self._unwrap_value(\n\u001b[0;32m    437\u001b[0m                 response.get('value', None))\n",
      "\u001b[1;32m~\\New folder\\lib\\site-packages\\selenium\\webdriver\\remote\\errorhandler.py\u001b[0m in \u001b[0;36mcheck_response\u001b[1;34m(self, response)\u001b[0m\n\u001b[0;32m    245\u001b[0m                 \u001b[0malert_text\u001b[0m \u001b[1;33m=\u001b[0m \u001b[0mvalue\u001b[0m\u001b[1;33m[\u001b[0m\u001b[1;34m'alert'\u001b[0m\u001b[1;33m]\u001b[0m\u001b[1;33m.\u001b[0m\u001b[0mget\u001b[0m\u001b[1;33m(\u001b[0m\u001b[1;34m'text'\u001b[0m\u001b[1;33m)\u001b[0m\u001b[1;33m\u001b[0m\u001b[1;33m\u001b[0m\u001b[0m\n\u001b[0;32m    246\u001b[0m             \u001b[1;32mraise\u001b[0m \u001b[0mexception_class\u001b[0m\u001b[1;33m(\u001b[0m\u001b[0mmessage\u001b[0m\u001b[1;33m,\u001b[0m \u001b[0mscreen\u001b[0m\u001b[1;33m,\u001b[0m \u001b[0mstacktrace\u001b[0m\u001b[1;33m,\u001b[0m \u001b[0malert_text\u001b[0m\u001b[1;33m)\u001b[0m  \u001b[1;31m# type: ignore[call-arg]  # mypy is not smart enough here\u001b[0m\u001b[1;33m\u001b[0m\u001b[1;33m\u001b[0m\u001b[0m\n\u001b[1;32m--> 247\u001b[1;33m         \u001b[1;32mraise\u001b[0m \u001b[0mexception_class\u001b[0m\u001b[1;33m(\u001b[0m\u001b[0mmessage\u001b[0m\u001b[1;33m,\u001b[0m \u001b[0mscreen\u001b[0m\u001b[1;33m,\u001b[0m \u001b[0mstacktrace\u001b[0m\u001b[1;33m)\u001b[0m\u001b[1;33m\u001b[0m\u001b[1;33m\u001b[0m\u001b[0m\n\u001b[0m\u001b[0;32m    248\u001b[0m \u001b[1;33m\u001b[0m\u001b[0m\n\u001b[0;32m    249\u001b[0m     \u001b[1;32mdef\u001b[0m \u001b[0m_value_or_default\u001b[0m\u001b[1;33m(\u001b[0m\u001b[0mself\u001b[0m\u001b[1;33m,\u001b[0m \u001b[0mobj\u001b[0m\u001b[1;33m:\u001b[0m \u001b[0mMapping\u001b[0m\u001b[1;33m[\u001b[0m\u001b[0m_KT\u001b[0m\u001b[1;33m,\u001b[0m \u001b[0m_VT\u001b[0m\u001b[1;33m]\u001b[0m\u001b[1;33m,\u001b[0m \u001b[0mkey\u001b[0m\u001b[1;33m:\u001b[0m \u001b[0m_KT\u001b[0m\u001b[1;33m,\u001b[0m \u001b[0mdefault\u001b[0m\u001b[1;33m:\u001b[0m \u001b[0m_VT\u001b[0m\u001b[1;33m)\u001b[0m \u001b[1;33m->\u001b[0m \u001b[0m_VT\u001b[0m\u001b[1;33m:\u001b[0m\u001b[1;33m\u001b[0m\u001b[1;33m\u001b[0m\u001b[0m\n",
      "\u001b[1;31mNoSuchElementException\u001b[0m: Message: no such element: Unable to locate element: {\"method\":\"css selector\",\"selector\":\".login-actions-button\"}\n  (Session info: chrome=103.0.5060.66)\nStacktrace:\nBacktrace:\n\tOrdinal0 [0x011B6463+2188387]\n\tOrdinal0 [0x0114E461+1762401]\n\tOrdinal0 [0x01063D78+802168]\n\tOrdinal0 [0x01091880+989312]\n\tOrdinal0 [0x01091B1B+989979]\n\tOrdinal0 [0x010BE912+1173778]\n\tOrdinal0 [0x010AC824+1099812]\n\tOrdinal0 [0x010BCC22+1166370]\n\tOrdinal0 [0x010AC5F6+1099254]\n\tOrdinal0 [0x01086BE0+945120]\n\tOrdinal0 [0x01087AD6+948950]\n\tGetHandleVerifier [0x014571F2+2712546]\n\tGetHandleVerifier [0x0144886D+2652765]\n\tGetHandleVerifier [0x0124002A+520730]\n\tGetHandleVerifier [0x0123EE06+516086]\n\tOrdinal0 [0x0115468B+1787531]\n\tOrdinal0 [0x01158E88+1805960]\n\tOrdinal0 [0x01158F75+1806197]\n\tOrdinal0 [0x01161DF1+1842673]\n\tBaseThreadInitThunk [0x76536739+25]\n\tRtlGetFullPathName_UEx [0x770A8FEF+1215]\n\tRtlGetFullPathName_UEx [0x770A8FBD+1165]\n"
     ]
    }
   ],
   "source": [
    "#Login to okc account\n",
    "WebDriverWait(driver,100).until(EC.element_to_be_clickable((By.CSS_SELECTOR,\"input[id='username']\"))).send_keys(\"lohdaijiu@gmail.com\")\n",
    "# user=driver.find_element_by_css_selector(\"input[id='username']\")\n",
    "# user.send_keys(\"lohdaijiu@gmail.com\")\n",
    "WebDriverWait(driver,100).until(EC.element_to_be_clickable((By.CSS_SELECTOR,\"input[id='password']\"))).send_keys(\"#####\")\n",
    "\n",
    "#Password hidden\n",
    "\n",
    "login = driver.find_element(By.CLASS_NAME, \"login-actions-button\")\n",
    "login.click()\n",
    "\n",
    "time.sleep(2)\n",
    "\n",
    "sendVerification = driver.find_element(By.CLASS_NAME, \"login-actions-button\")\n",
    "sendVerification.click()\n",
    "\n",
    "time.sleep(15) #15 seconds to enter OTP"
   ]
  },
  {
   "cell_type": "code",
   "execution_count": 118,
   "id": "568d607e",
   "metadata": {},
   "outputs": [
    {
     "name": "stdout",
     "output_type": "stream",
     "text": [
      "9982\n"
     ]
    }
   ],
   "source": [
    "#For loop to gather information\n",
    "profiles = []\n",
    "\n",
    "for i in range(10000):\n",
    "    \n",
    "    try:\n",
    "    \n",
    "        collected = False\n",
    "\n",
    "        new_friends = False\n",
    "        short_term = False\n",
    "        long_term = False\n",
    "        hookups = False\n",
    "\n",
    "        while not collected:\n",
    "\n",
    "            name = driver.find_element(By.CLASS_NAME, \"card-content-header__text\").text\n",
    "            age = driver.find_element(By.CLASS_NAME, \"card-content-header__location\").text[0:2]\n",
    "            try:\n",
    "                if driver.find_element(By.CLASS_NAME, \"dt-section-title\").text == \"My self-summary\":\n",
    "                    self_summary = driver.find_element(By.CLASS_NAME, \"dt-essay-text\").text.replace('\\n',\" \")\n",
    "                else:\n",
    "                    self_summary = None\n",
    "\n",
    "            except NoSuchElementException:\n",
    "                pass\n",
    "\n",
    "            try:           \n",
    "                target = driver.find_element(By.XPATH, \"//*[contains(text(), 'Looking for')]\").text           \n",
    "            except NoSuchElementException:\n",
    "                pass\n",
    "\n",
    "\n",
    "    #         print(target)\n",
    "            if \"New friends\" in target:\n",
    "                new_friends = True\n",
    "            if \"Short-term\" in target:\n",
    "                short_term = True\n",
    "            if \"Long-term\" in target:\n",
    "                long_term = True\n",
    "            if \"Hookups\" in target:\n",
    "                hookups = True\n",
    "\n",
    "\n",
    "            collected = True\n",
    "\n",
    "        currProfile = {\"name\": name, \"age\": age, \"self_summary\":self_summary, \"New Friends\": new_friends,\n",
    "                       \"Short-term dating\": short_term, \"Long-term dating\": long_term, \"Hookups\": hookups}\n",
    "        profiles.append(currProfile)\n",
    "        reject = driver.find_element(By.CLASS_NAME, \"dt-action-buttons-button-text\")\n",
    "        reject.click()\n",
    "        time.sleep(0.2)\n",
    "        \n",
    "    except:\n",
    "        driver.refresh();\n",
    "        time.sleep(5)\n",
    "\n",
    "print(len(profiles))\n",
    "\n",
    "df = pd.DataFrame(profiles)\n",
    "\n"
   ]
  },
  {
   "cell_type": "code",
   "execution_count": 6,
   "id": "2c1e7fc4",
   "metadata": {},
   "outputs": [],
   "source": [
    "#Output csv file\n",
    "df.to_csv('okc.csv', index=True)"
   ]
  }
 ],
 "metadata": {
  "kernelspec": {
   "display_name": "Python 3 (ipykernel)",
   "language": "python",
   "name": "python3"
  },
  "language_info": {
   "codemirror_mode": {
    "name": "ipython",
    "version": 3
   },
   "file_extension": ".py",
   "mimetype": "text/x-python",
   "name": "python",
   "nbconvert_exporter": "python",
   "pygments_lexer": "ipython3",
   "version": "3.9.7"
  }
 },
 "nbformat": 4,
 "nbformat_minor": 5
}
